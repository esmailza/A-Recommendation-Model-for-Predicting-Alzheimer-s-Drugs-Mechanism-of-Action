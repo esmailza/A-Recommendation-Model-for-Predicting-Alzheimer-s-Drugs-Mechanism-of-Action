{
 "cells": [
  {
   "cell_type": "code",
   "execution_count": 174,
   "metadata": {
    "scrolled": false
   },
   "outputs": [],
   "source": [
    "import pandas as pd\n",
    "import numpy as np\n",
    "from tqdm.notebook import tqdm\n",
    "import matplotlib.pyplot as plt\n",
    "import seaborn as sns\n",
    "import re\n",
    "import random\n",
    "import torch\n",
    "from transformers import BertTokenizer, BertModel\n",
    "import tensorflow as tf\n",
    "from tensorflow import keras\n",
    "from tensorflow.keras.utils import to_categorical\n",
    "from sklearn.preprocessing import LabelEncoder\n",
    "from sklearn.model_selection import train_test_split\n",
    "from sklearn.metrics import accuracy_score, confusion_matrix\n",
    "\n",
    "# random.seed(42)\n",
    "# tf.random.set_seed(42)\n",
    "# np.random.seed(42)"
   ]
  },
  {
   "cell_type": "code",
   "execution_count": 175,
   "metadata": {
    "scrolled": true
   },
   "outputs": [],
   "source": [
    "MODEL_NAME = 'bert-base-uncased'\n",
    "MAX_SEQ_LENGHT = 50"
   ]
  },
  {
   "cell_type": "code",
   "execution_count": 176,
   "metadata": {
    "scrolled": true
   },
   "outputs": [
    {
     "data": {
      "text/html": [
       "<div>\n",
       "<style scoped>\n",
       "    .dataframe tbody tr th:only-of-type {\n",
       "        vertical-align: middle;\n",
       "    }\n",
       "\n",
       "    .dataframe tbody tr th {\n",
       "        vertical-align: top;\n",
       "    }\n",
       "\n",
       "    .dataframe thead th {\n",
       "        text-align: right;\n",
       "    }\n",
       "</style>\n",
       "<table border=\"1\" class=\"dataframe\">\n",
       "  <thead>\n",
       "    <tr style=\"text-align: right;\">\n",
       "      <th></th>\n",
       "      <th>Unnamed: 0</th>\n",
       "      <th>name</th>\n",
       "      <th>text</th>\n",
       "      <th>MOA</th>\n",
       "    </tr>\n",
       "  </thead>\n",
       "  <tbody>\n",
       "    <tr>\n",
       "      <th>0</th>\n",
       "      <td>0</td>\n",
       "      <td>AAB-003</td>\n",
       "      <td>\\n\\nAAB-003 is a humanized version of the anti...</td>\n",
       "      <td>4</td>\n",
       "    </tr>\n",
       "    <tr>\n",
       "      <th>1</th>\n",
       "      <td>1</td>\n",
       "      <td>AADvac1</td>\n",
       "      <td>\\n\\nThis is an active vaccine designed to elic...</td>\n",
       "      <td>4</td>\n",
       "    </tr>\n",
       "    <tr>\n",
       "      <th>2</th>\n",
       "      <td>2</td>\n",
       "      <td>AAVrh.10-APOE2</td>\n",
       "      <td>\\n\\nThis gene-therapy approach uses a viral ve...</td>\n",
       "      <td>4</td>\n",
       "    </tr>\n",
       "    <tr>\n",
       "      <th>3</th>\n",
       "      <td>3</td>\n",
       "      <td>ABBV-0805</td>\n",
       "      <td>\\n\\n\\nABBV-0805 is a humanized monoclonal anti...</td>\n",
       "      <td>4</td>\n",
       "    </tr>\n",
       "    <tr>\n",
       "      <th>4</th>\n",
       "      <td>4</td>\n",
       "      <td>ABBV-8E12</td>\n",
       "      <td>\\nC2N 8E12 is a humanized IgG4 antibody being ...</td>\n",
       "      <td>4</td>\n",
       "    </tr>\n",
       "  </tbody>\n",
       "</table>\n",
       "</div>"
      ],
      "text/plain": [
       "   Unnamed: 0            name  \\\n",
       "0           0         AAB-003   \n",
       "1           1         AADvac1   \n",
       "2           2  AAVrh.10-APOE2   \n",
       "3           3       ABBV-0805   \n",
       "4           4       ABBV-8E12   \n",
       "\n",
       "                                                text  MOA  \n",
       "0  \\n\\nAAB-003 is a humanized version of the anti...    4  \n",
       "1  \\n\\nThis is an active vaccine designed to elic...    4  \n",
       "2  \\n\\nThis gene-therapy approach uses a viral ve...    4  \n",
       "3  \\n\\n\\nABBV-0805 is a humanized monoclonal anti...    4  \n",
       "4  \\nC2N 8E12 is a humanized IgG4 antibody being ...    4  "
      ]
     },
     "execution_count": 176,
     "metadata": {},
     "output_type": "execute_result"
    }
   ],
   "source": [
    "\n",
    "df = pd.read_excel('Data/drugData.xlsx')\n",
    "# df = pd.read_excel('Data/Data_drug_all.xlsx')\n",
    "df.head()"
   ]
  },
  {
   "cell_type": "code",
   "execution_count": 177,
   "metadata": {
    "scrolled": false
   },
   "outputs": [],
   "source": [
    "labels = df['MOA'].apply(lambda x: 0 if x == 4 else 1)\n",
    "\n",
    "NUM_LABEL = len(labels.unique())\n",
    "labels = to_categorical(labels)\n"
   ]
  },
  {
   "cell_type": "code",
   "execution_count": 178,
   "metadata": {
    "scrolled": false
   },
   "outputs": [
    {
     "name": "stdout",
     "output_type": "stream",
     "text": [
      "There are 233 records in the dataset\n"
     ]
    }
   ],
   "source": [
    "print('There are {} records in the dataset'.format(df.shape[0]))"
   ]
  },
  {
   "cell_type": "code",
   "execution_count": 179,
   "metadata": {
    "scrolled": true
   },
   "outputs": [],
   "source": [
    "df['text'] = df['text'].apply(lambda x: x.replace('\\n\\n', ''))"
   ]
  },
  {
   "cell_type": "code",
   "execution_count": 180,
   "metadata": {
    "scrolled": false
   },
   "outputs": [
    {
     "data": {
      "application/vnd.jupyter.widget-view+json": {
       "model_id": "bc865eccea834061b477c909eddf0768",
       "version_major": 2,
       "version_minor": 0
      },
      "text/plain": [
       "HBox(children=(FloatProgress(value=0.0, description='Downloading', max=231508.0, style=ProgressStyle(descripti…"
      ]
     },
     "metadata": {},
     "output_type": "display_data"
    },
    {
     "name": "stdout",
     "output_type": "stream",
     "text": [
      "\n"
     ]
    },
    {
     "data": {
      "application/vnd.jupyter.widget-view+json": {
       "model_id": "0842dcc1d9e3437c999fd2869607f5bd",
       "version_major": 2,
       "version_minor": 0
      },
      "text/plain": [
       "HBox(children=(FloatProgress(value=0.0, description='Downloading', max=28.0, style=ProgressStyle(description_w…"
      ]
     },
     "metadata": {},
     "output_type": "display_data"
    },
    {
     "name": "stdout",
     "output_type": "stream",
     "text": [
      "\n"
     ]
    },
    {
     "data": {
      "application/vnd.jupyter.widget-view+json": {
       "model_id": "81d6622db27947f7a1fcf27e90bce9ef",
       "version_major": 2,
       "version_minor": 0
      },
      "text/plain": [
       "HBox(children=(FloatProgress(value=0.0, description='Downloading', max=466062.0, style=ProgressStyle(descripti…"
      ]
     },
     "metadata": {},
     "output_type": "display_data"
    },
    {
     "name": "stdout",
     "output_type": "stream",
     "text": [
      "\n"
     ]
    },
    {
     "data": {
      "application/vnd.jupyter.widget-view+json": {
       "model_id": "9a70bcd18b3d4d8b863ddbcc68f79d13",
       "version_major": 2,
       "version_minor": 0
      },
      "text/plain": [
       "HBox(children=(FloatProgress(value=0.0, description='Downloading', max=570.0, style=ProgressStyle(description_…"
      ]
     },
     "metadata": {},
     "output_type": "display_data"
    },
    {
     "name": "stdout",
     "output_type": "stream",
     "text": [
      "\n"
     ]
    },
    {
     "data": {
      "application/vnd.jupyter.widget-view+json": {
       "model_id": "f0f2eb9e1ecb4ac4838cdb7c45326b11",
       "version_major": 2,
       "version_minor": 0
      },
      "text/plain": [
       "HBox(children=(FloatProgress(value=0.0, description='Downloading', max=440473133.0, style=ProgressStyle(descri…"
      ]
     },
     "metadata": {},
     "output_type": "display_data"
    },
    {
     "name": "stdout",
     "output_type": "stream",
     "text": [
      "\n"
     ]
    }
   ],
   "source": [
    "tokenizer = BertTokenizer.from_pretrained(MODEL_NAME)\n",
    "bert = BertModel.from_pretrained(MODEL_NAME)"
   ]
  },
  {
   "cell_type": "code",
   "execution_count": 181,
   "metadata": {
    "scrolled": false
   },
   "outputs": [
    {
     "name": "stdout",
     "output_type": "stream",
     "text": [
      "WARNING:tensorflow:Please add `keras.layers.InputLayer` instead of `keras.Input` to Sequential model. `keras.Input` is intended to be used by Functional model.\n",
      "Model: \"sequential_5\"\n",
      "_________________________________________________________________\n",
      "Layer (type)                 Output Shape              Param #   \n",
      "=================================================================\n",
      "dropout_5 (Dropout)          (None, 768)               0         \n",
      "_________________________________________________________________\n",
      "dense_1 (Dense)              (None, 768)               590592    \n",
      "_________________________________________________________________\n",
      "dense_2 (Dense)              (None, 384)               295296    \n",
      "_________________________________________________________________\n",
      "dense_3 (Dense)              (None, 192)               73920     \n",
      "_________________________________________________________________\n",
      "dense_4 (Dense)              (None, 96)                18528     \n",
      "_________________________________________________________________\n",
      "dense_5 (Dense)              (None, 2)                 194       \n",
      "_________________________________________________________________\n",
      "softmax (Activation)         (None, 2)                 0         \n",
      "=================================================================\n",
      "Total params: 978,530\n",
      "Trainable params: 978,530\n",
      "Non-trainable params: 0\n",
      "_________________________________________________________________\n"
     ]
    }
   ],
   "source": [
    "LEARNING_RATE = 0.01\n",
    "\n",
    "\n",
    "model = tf.keras.Sequential([\n",
    "        tf.keras.layers.Input((bert.config.hidden_size,), name='input_layer'),\n",
    "        tf.keras.layers.Dropout(0.25),\n",
    "        tf.keras.layers.Dense(bert.config.hidden_size, activation='relu', name='dense_1'),\n",
    "        tf.keras.layers.Dense(bert.config.hidden_size/2, activation='relu', name='dense_2'),\n",
    "        tf.keras.layers.Dense(bert.config.hidden_size/4, activation='relu', name='dense_3'),\n",
    "        tf.keras.layers.Dense(bert.config.hidden_size/8, activation='relu', name='dense_4'),\n",
    "        tf.keras.layers.Dense(NUM_LABEL, name='dense_5'),\n",
    "        tf.keras.layers.Activation('softmax', name='softmax')\n",
    "])\n",
    "\n",
    "opt = tf.keras.optimizers.Adam(learning_rate=LEARNING_RATE)\n",
    "model.compile(loss='categorical_crossentropy', optimizer=opt, metrics=['accuracy'])\n",
    "\n",
    "model.summary()"
   ]
  },
  {
   "cell_type": "code",
   "execution_count": 182,
   "metadata": {
    "scrolled": true
   },
   "outputs": [],
   "source": [
    "def convert_lines(example, max_seq_length,tokenizer):\n",
    "    max_seq_length -=2\n",
    "    all_windows = []\n",
    "\n",
    "    for text in tqdm(example):\n",
    "        windows = []\n",
    "        tokens_a = tokenizer.tokenize(text)\n",
    "        for i in range(0, len(tokens_a), max_seq_length):\n",
    "            window = tokenizer.convert_tokens_to_ids([\"[CLS]\"] + tokens_a[i:i + max_seq_length] + [\"[SEP]\"])+ \\\n",
    "                                                            [0] * (max_seq_length - len(tokens_a))\n",
    "            windows.extend(window)\n",
    "        all_windows.append(windows)\n",
    "        \n",
    "    return np.array(all_windows)"
   ]
  },
  {
   "cell_type": "code",
   "execution_count": 183,
   "metadata": {
    "scrolled": true
   },
   "outputs": [
    {
     "data": {
      "application/vnd.jupyter.widget-view+json": {
       "model_id": "09cfb2aad986434cb97808ed996cdeff",
       "version_major": 2,
       "version_minor": 0
      },
      "text/plain": [
       "HBox(children=(FloatProgress(value=0.0, max=233.0), HTML(value='')))"
      ]
     },
     "metadata": {},
     "output_type": "display_data"
    },
    {
     "name": "stdout",
     "output_type": "stream",
     "text": [
      "\n"
     ]
    },
    {
     "name": "stderr",
     "output_type": "stream",
     "text": [
      "<ipython-input-182-4b152568a91f>:14: VisibleDeprecationWarning: Creating an ndarray from ragged nested sequences (which is a list-or-tuple of lists-or-tuples-or ndarrays with different lengths or shapes) is deprecated. If you meant to do this, you must specify 'dtype=object' when creating the ndarray\n",
      "  return np.array(all_windows)\n"
     ]
    }
   ],
   "source": [
    "tokenized = convert_lines(df['text'], MAX_SEQ_LENGHT, tokenizer)"
   ]
  },
  {
   "cell_type": "code",
   "execution_count": 184,
   "metadata": {
    "scrolled": true
   },
   "outputs": [
    {
     "data": {
      "application/vnd.jupyter.widget-view+json": {
       "model_id": "0df219a1198942e187f1603868257733",
       "version_major": 2,
       "version_minor": 0
      },
      "text/plain": [
       "HBox(children=(FloatProgress(value=0.0, max=233.0), HTML(value='')))"
      ]
     },
     "metadata": {},
     "output_type": "display_data"
    },
    {
     "name": "stdout",
     "output_type": "stream",
     "text": [
      "\n"
     ]
    }
   ],
   "source": [
    "cls_features = []\n",
    "for tokens in tqdm(tokenized):\n",
    "    CLS = torch.zeros(1,768)\n",
    "    for i in range(0, len(tokens), MAX_SEQ_LENGHT):\n",
    "        batch = tokens[i:i + MAX_SEQ_LENGHT]\n",
    "        if len(tokens) < MAX_SEQ_LENGHT:\n",
    "            batch = np.pad(batch, (0,MAX_SEQ_LENGHT-len(batch)), 'constant')\n",
    "        batch = torch.tensor(batch).unsqueeze(0)\n",
    "            \n",
    "        CLS += bert(batch)[0][:,0,:]\n",
    "        \n",
    "    cls_features.append(CLS)"
   ]
  },
  {
   "cell_type": "code",
   "execution_count": 185,
   "metadata": {
    "scrolled": true
   },
   "outputs": [
    {
     "data": {
      "text/plain": [
       "(233, 1, 768)"
      ]
     },
     "execution_count": 185,
     "metadata": {},
     "output_type": "execute_result"
    }
   ],
   "source": [
    "cls_features = [c.tolist() for c in cls_features]\n",
    "cls_features = np.array(cls_features)\n",
    "cls_features.shape"
   ]
  },
  {
   "cell_type": "code",
   "execution_count": 186,
   "metadata": {
    "scrolled": true
   },
   "outputs": [],
   "source": [
    "cls_features = cls_features.squeeze(1)"
   ]
  },
  {
   "cell_type": "code",
   "execution_count": 187,
   "metadata": {
    "scrolled": false
   },
   "outputs": [],
   "source": [
    "\n",
    "\n",
    "X_train, X_test, y_train, y_test = train_test_split(cls_features, labels, test_size=0.25) "
   ]
  },
  {
   "cell_type": "code",
   "execution_count": 188,
   "metadata": {},
   "outputs": [],
   "source": [
    "# class_weight = {0: 5.5,\n",
    "#                 1: 6.25,\n",
    "#                 2:1.4,\n",
    "#                3:1}"
   ]
  },
  {
   "cell_type": "code",
   "execution_count": 192,
   "metadata": {
    "scrolled": false
   },
   "outputs": [
    {
     "name": "stdout",
     "output_type": "stream",
     "text": [
      "Epoch 1/50\n",
      "12/12 [==============================] - 0s 5ms/step - loss: 0.3362 - accuracy: 0.9425\n",
      "Epoch 2/50\n",
      "12/12 [==============================] - 0s 5ms/step - loss: 0.1109 - accuracy: 0.9770\n",
      "Epoch 3/50\n",
      "12/12 [==============================] - 0s 5ms/step - loss: 0.1958 - accuracy: 0.9253\n",
      "Epoch 4/50\n",
      "12/12 [==============================] - 0s 5ms/step - loss: 0.1960 - accuracy: 0.9483\n",
      "Epoch 5/50\n",
      "12/12 [==============================] - 0s 5ms/step - loss: 0.1061 - accuracy: 0.9828\n",
      "Epoch 6/50\n",
      "12/12 [==============================] - 0s 5ms/step - loss: 0.1129 - accuracy: 0.9655\n",
      "Epoch 7/50\n",
      "12/12 [==============================] - 0s 4ms/step - loss: 0.1454 - accuracy: 0.9655\n",
      "Epoch 8/50\n",
      "12/12 [==============================] - 0s 4ms/step - loss: 0.1121 - accuracy: 0.9655\n",
      "Epoch 9/50\n",
      "12/12 [==============================] - 0s 5ms/step - loss: 0.2435 - accuracy: 0.9195\n",
      "Epoch 10/50\n",
      "12/12 [==============================] - 0s 5ms/step - loss: 0.2495 - accuracy: 0.9023\n",
      "Epoch 11/50\n",
      "12/12 [==============================] - 0s 5ms/step - loss: 0.3072 - accuracy: 0.9368\n",
      "Epoch 12/50\n",
      "12/12 [==============================] - 0s 4ms/step - loss: 0.4696 - accuracy: 0.8276\n",
      "Epoch 13/50\n",
      "12/12 [==============================] - 0s 5ms/step - loss: 0.5262 - accuracy: 0.8621\n",
      "Epoch 14/50\n",
      "12/12 [==============================] - 0s 5ms/step - loss: 0.3995 - accuracy: 0.8506\n",
      "Epoch 15/50\n",
      "12/12 [==============================] - 0s 5ms/step - loss: 0.2146 - accuracy: 0.9310\n",
      "Epoch 16/50\n",
      "12/12 [==============================] - 0s 5ms/step - loss: 0.8118 - accuracy: 0.7816\n",
      "Epoch 17/50\n",
      "12/12 [==============================] - 0s 5ms/step - loss: 0.1878 - accuracy: 0.9483\n",
      "Epoch 18/50\n",
      "12/12 [==============================] - 0s 5ms/step - loss: 0.4450 - accuracy: 0.7586\n",
      "Epoch 19/50\n",
      "12/12 [==============================] - 0s 5ms/step - loss: 0.4383 - accuracy: 0.8218\n",
      "Epoch 20/50\n",
      "12/12 [==============================] - 0s 5ms/step - loss: 0.3283 - accuracy: 0.8851\n",
      "Epoch 21/50\n",
      "12/12 [==============================] - 0s 5ms/step - loss: 0.3469 - accuracy: 0.8678\n",
      "Epoch 22/50\n",
      "12/12 [==============================] - 0s 5ms/step - loss: 0.1664 - accuracy: 0.9598\n",
      "Epoch 23/50\n",
      "12/12 [==============================] - 0s 5ms/step - loss: 0.1501 - accuracy: 0.9425\n",
      "Epoch 24/50\n",
      "12/12 [==============================] - 0s 5ms/step - loss: 0.1414 - accuracy: 0.9598\n",
      "Epoch 25/50\n",
      "12/12 [==============================] - 0s 5ms/step - loss: 0.4430 - accuracy: 0.8161\n",
      "Epoch 26/50\n",
      "12/12 [==============================] - 0s 5ms/step - loss: 0.2550 - accuracy: 0.9195\n",
      "Epoch 27/50\n",
      "12/12 [==============================] - 0s 5ms/step - loss: 0.1717 - accuracy: 0.9598\n",
      "Epoch 28/50\n",
      "12/12 [==============================] - 0s 4ms/step - loss: 0.1216 - accuracy: 0.9770\n",
      "Epoch 29/50\n",
      "12/12 [==============================] - 0s 5ms/step - loss: 0.1098 - accuracy: 0.9713\n",
      "Epoch 30/50\n",
      "12/12 [==============================] - 0s 5ms/step - loss: 0.1116 - accuracy: 0.9713\n",
      "Epoch 31/50\n",
      "12/12 [==============================] - 0s 5ms/step - loss: 0.1059 - accuracy: 0.9713\n",
      "Epoch 32/50\n",
      "12/12 [==============================] - 0s 5ms/step - loss: 0.0533 - accuracy: 0.9885\n",
      "Epoch 33/50\n",
      "12/12 [==============================] - 0s 5ms/step - loss: 0.1963 - accuracy: 0.9253\n",
      "Epoch 34/50\n",
      "12/12 [==============================] - 0s 4ms/step - loss: 0.1393 - accuracy: 0.9770\n",
      "Epoch 35/50\n",
      "12/12 [==============================] - 0s 5ms/step - loss: 0.0915 - accuracy: 0.9828\n",
      "Epoch 36/50\n",
      "12/12 [==============================] - 0s 4ms/step - loss: 0.0984 - accuracy: 0.9598\n",
      "Epoch 37/50\n",
      "12/12 [==============================] - 0s 5ms/step - loss: 0.1269 - accuracy: 0.9713\n",
      "Epoch 38/50\n",
      "12/12 [==============================] - 0s 4ms/step - loss: 0.0819 - accuracy: 0.9770\n",
      "Epoch 39/50\n",
      "12/12 [==============================] - 0s 4ms/step - loss: 0.0920 - accuracy: 0.9713\n",
      "Epoch 40/50\n",
      "12/12 [==============================] - 0s 4ms/step - loss: 0.1226 - accuracy: 0.9655\n",
      "Epoch 41/50\n",
      "12/12 [==============================] - 0s 4ms/step - loss: 0.1042 - accuracy: 0.9655\n",
      "Epoch 42/50\n",
      "12/12 [==============================] - 0s 4ms/step - loss: 0.1406 - accuracy: 0.9655\n",
      "Epoch 43/50\n",
      "12/12 [==============================] - 0s 4ms/step - loss: 0.0589 - accuracy: 0.9885\n",
      "Epoch 44/50\n",
      "12/12 [==============================] - 0s 4ms/step - loss: 0.1586 - accuracy: 0.9540\n",
      "Epoch 45/50\n",
      "12/12 [==============================] - 0s 4ms/step - loss: 0.1368 - accuracy: 0.9425\n",
      "Epoch 46/50\n",
      "12/12 [==============================] - 0s 5ms/step - loss: 0.1445 - accuracy: 0.9483\n",
      "Epoch 47/50\n",
      "12/12 [==============================] - 0s 4ms/step - loss: 0.1308 - accuracy: 0.9483\n",
      "Epoch 48/50\n",
      "12/12 [==============================] - 0s 4ms/step - loss: 0.0477 - accuracy: 0.9828\n",
      "Epoch 49/50\n",
      "12/12 [==============================] - 0s 5ms/step - loss: 0.3068 - accuracy: 0.9425\n",
      "Epoch 50/50\n",
      "12/12 [==============================] - 0s 4ms/step - loss: 0.1725 - accuracy: 0.9655\n"
     ]
    },
    {
     "data": {
      "text/plain": [
       "<tensorflow.python.keras.callbacks.History at 0x7faeb05f0c10>"
      ]
     },
     "execution_count": 192,
     "metadata": {},
     "output_type": "execute_result"
    }
   ],
   "source": [
    "model.fit(X_train, y_train, batch_size=15, epochs=50)"
   ]
  },
  {
   "cell_type": "code",
   "execution_count": 193,
   "metadata": {
    "scrolled": true
   },
   "outputs": [],
   "source": [
    "res = model.predict(X_test)\n",
    "y_pred = np.argmax(res, axis=1)"
   ]
  },
  {
   "cell_type": "code",
   "execution_count": 194,
   "metadata": {
    "scrolled": true
   },
   "outputs": [
    {
     "name": "stdout",
     "output_type": "stream",
     "text": [
      "The accuracy is 89.83%\n"
     ]
    }
   ],
   "source": [
    "print('The accuracy is {:0.02f}%'.format(accuracy_score(np.argmax(y_test, axis=1), y_pred)*100))"
   ]
  },
  {
   "cell_type": "code",
   "execution_count": 195,
   "metadata": {
    "scrolled": true
   },
   "outputs": [
    {
     "data": {
      "text/plain": [
       "<AxesSubplot:>"
      ]
     },
     "execution_count": 195,
     "metadata": {},
     "output_type": "execute_result"
    },
    {
     "data": {
      "image/png": "[encoded data removed]",
      "text/plain": [
       "<Figure size 432x288 with 2 Axes>"
      ]
     },
     "metadata": {
      "needs_background": "light"
     },
     "output_type": "display_data"
    }
   ],
   "source": [
    "sns.heatmap(confusion_matrix(np.argmax(y_test, axis=1), y_pred), annot=True)"
   ]
  },
  {
   "cell_type": "code",
   "execution_count": 97,
   "metadata": {
    "scrolled": true
   },
   "outputs": [
    {
     "name": "stdout",
     "output_type": "stream",
     "text": [
      "The precision of the model: 0.64%\n",
      "The recall of the model: 0.64%\n",
      "The f1 score of the model: 0.64%\n"
     ]
    }
   ],
   "source": [
    "from sklearn.metrics import precision_score, recall_score, f1_score\n",
    "print('The precision of the model: {:0.02f}%'.format(precision_score(np.argmax(y_test, axis=1), y_pred, average='micro')))\n",
    "print('The recall of the model: {:0.02f}%'.format(recall_score(np.argmax(y_test, axis=1), y_pred,  average='micro')))\n",
    "print('The f1 score of the model: {:0.02f}%'.format(f1_score(np.argmax(y_test, axis=1), y_pred, average='micro')))"
   ]
  },
  {
   "cell_type": "code",
   "execution_count": null,
   "metadata": {},
   "outputs": [],
   "source": []
  }
 ],
 "metadata": {
  "kernelspec": {
   "display_name": "Python 3",
   "language": "python",
   "name": "python3"
  },
  "language_info": {
   "codemirror_mode": {
    "name": "ipython",
    "version": 3
   },
   "file_extension": ".py",
   "mimetype": "text/x-python",
   "name": "python",
   "nbconvert_exporter": "python",
   "pygments_lexer": "ipython3",
   "version": "3.9.4"
  }
 },
 "nbformat": 4,
 "nbformat_minor": 4
}
